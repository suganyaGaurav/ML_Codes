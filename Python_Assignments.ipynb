{
  "nbformat": 4,
  "nbformat_minor": 0,
  "metadata": {
    "colab": {
      "provenance": []
    },
    "kernelspec": {
      "name": "python3",
      "display_name": "Python 3"
    },
    "language_info": {
      "name": "python"
    }
  },
  "cells": [
    {
      "cell_type": "code",
      "metadata": {
        "colab": {
          "base_uri": "https://localhost:8080/"
        },
        "id": "oFzWjfG5T-jl",
        "outputId": "fab5143e-938f-4eb9-dba7-0e19e7481a05"
      },
      "source": [
        "#print the Multiplication Table for 10\n",
        "\n",
        "n = int(input(\"Enter the Number to get Multiplication Table\"))\n",
        "for i in range(1,11):\n",
        "  print(i, \" X \" ,n, \" = \" ,i*n)"
      ],
      "execution_count": null,
      "outputs": [
        {
          "output_type": "stream",
          "name": "stdout",
          "text": [
            "Enter the Number to get Multiplication Table10\n",
            "1  X  10  =  10\n",
            "2  X  10  =  20\n",
            "3  X  10  =  30\n",
            "4  X  10  =  40\n",
            "5  X  10  =  50\n",
            "6  X  10  =  60\n",
            "7  X  10  =  70\n",
            "8  X  10  =  80\n",
            "9  X  10  =  90\n",
            "10  X  10  =  100\n"
          ]
        }
      ]
    },
    {
      "cell_type": "code",
      "metadata": {
        "colab": {
          "base_uri": "https://localhost:8080/"
        },
        "id": "DykPse_lU2pj",
        "outputId": "f8d20313-e21b-4e2d-b622-6469f10d66ce"
      },
      "source": [
        "#Swap two variables of Users choice with third variable\n",
        "\n",
        "X = int(input(\"Enter the first number: \"))\n",
        "Y = int(input(\"Enter the second number: \"))\n",
        "Z = 0 #Third temproary variable\n",
        "print(\"Values before swapping\")\n",
        "print(X,Y)\n",
        "\n",
        "Z = X\n",
        "X = Y\n",
        "Y = Z\n",
        "\n",
        "print(\"Values after swapping\")\n",
        "print(X,Y)"
      ],
      "execution_count": null,
      "outputs": [
        {
          "output_type": "stream",
          "name": "stdout",
          "text": [
            "Enter the first number: 50\n",
            "Enter the second number: 40\n",
            "Values before swapping\n",
            "50 40\n",
            "Values after swapping\n",
            "40 50\n"
          ]
        }
      ]
    },
    {
      "cell_type": "code",
      "metadata": {
        "colab": {
          "base_uri": "https://localhost:8080/"
        },
        "id": "EuGjKmHAWCFP",
        "outputId": "85bfe2a7-358e-43db-ebd0-36106c449604"
      },
      "source": [
        "#Swap two variables without using third variable\n",
        "\n",
        "X = int(input(\"Enter the first value: \"))\n",
        "Y = int(input(\"Enter the second value: \"))\n",
        "\n",
        "print(\"Values before swapping\")\n",
        "print(X,Y)\n",
        "X = X + Y\n",
        "Y = X - Y\n",
        "X = X - Y\n",
        "print(\"Values after swapping\")\n",
        "print(X,Y)"
      ],
      "execution_count": null,
      "outputs": [
        {
          "output_type": "stream",
          "name": "stdout",
          "text": [
            "Enter the first value: 50\n",
            "Enter the second value: 60\n",
            "Values before swapping\n",
            "50 60\n",
            "Values after swapping\n",
            "60 50\n"
          ]
        }
      ]
    },
    {
      "cell_type": "code",
      "metadata": {
        "colab": {
          "base_uri": "https://localhost:8080/"
        },
        "id": "afupkBxHmy2v",
        "outputId": "8814813b-fd3a-4aeb-dcfb-35efafd7178e"
      },
      "source": [
        "#Swap two variables with XOR\n",
        "X = int(input(\"Enter the first value: \"))\n",
        "Y = int(input(\"Enter the second value: \"))\n",
        "\n",
        "print(\"Values before swapping\")\n",
        "print(X,Y)\n",
        "\n",
        "X = X^Y\n",
        "Y = Y^X\n",
        "print(\"Values after swapping\")\n",
        "print(X,Y)\n"
      ],
      "execution_count": null,
      "outputs": [
        {
          "output_type": "stream",
          "name": "stdout",
          "text": [
            "Enter the first value: 50\n",
            "Enter the second value: 80\n",
            "Values before swapping\n",
            "50 80\n",
            "Values after swapping\n",
            "98 50\n"
          ]
        }
      ]
    },
    {
      "cell_type": "code",
      "metadata": {
        "colab": {
          "base_uri": "https://localhost:8080/"
        },
        "id": "m-L1KwMVnYlw",
        "outputId": "65c60376-c769-4615-c78e-b2a517313966"
      },
      "source": [
        "#Check if the number is even or odd\n",
        "\n",
        "X = int(input(\"Enter the input: \"))\n",
        "\n",
        "if X % 2 == 0:\n",
        "  print(\"\\n Input is an even number\")\n",
        "else:\n",
        "  print(\"\\n Input is an odd number\")"
      ],
      "execution_count": null,
      "outputs": [
        {
          "output_type": "stream",
          "name": "stdout",
          "text": [
            "Enter the input: 90\n",
            "\n",
            " Input is an even number\n"
          ]
        }
      ]
    },
    {
      "cell_type": "code",
      "metadata": {
        "id": "3dXUC4Xpoh4E",
        "colab": {
          "base_uri": "https://localhost:8080/"
        },
        "outputId": "8c73fd17-ccb1-45c3-d401-cfc86f049494"
      },
      "source": [
        "#Check which number is greater\n",
        "\n",
        "X = int(input(\"Enter the first value: \"))\n",
        "Y = int(input(\"Enter the second value: \"))\n",
        "\n",
        "if X > Y :\n",
        "  print(\"\\n First number is greater than Second\")\n",
        "elif Y > X:\n",
        "  print(\"\\n Second number is greater than First\")\n",
        "else:\n",
        "  print(\"\\n First and Second number are equal\")"
      ],
      "execution_count": null,
      "outputs": [
        {
          "output_type": "stream",
          "name": "stdout",
          "text": [
            "Enter the first value: 80\n",
            "Enter the second value: 80\n",
            "\n",
            " First and Second number are equal\n"
          ]
        }
      ]
    },
    {
      "cell_type": "code",
      "metadata": {
        "colab": {
          "base_uri": "https://localhost:8080/"
        },
        "id": "urlJ4gXbE5Rc",
        "outputId": "6db720c7-e73d-4987-e72d-a5d5cee5dd02"
      },
      "source": [
        "\n",
        "'''\n",
        "/ A shopkeeper gives a discount of 10% if the cost of the purchase quantity is more than 1000. WAP to ask the user for quantity.\n",
        "Considering one unit will cost 100 calculate the total cost to be paid by the user /\n",
        "'''\n",
        "lst = []\n",
        "total = 0\n",
        "X = int(input(\"Enter the number of items purchase: \"))\n",
        "print(\"No:of items purchased by the customer is: \",X)\n",
        "print(\"Please enter the cost of all the units purchased\")\n",
        "\n",
        "for i in range(0,X):\n",
        "  ele = int(input())\n",
        "\n",
        "  lst.append(ele) #adding the element\n",
        "#for j in range(0,X):\n",
        "  total = total + lst[i]\n",
        "print(\"Each unit cost would be: \",lst)\n",
        "print(\"Total of all the items would be: \",total)\n",
        "\n",
        "\n",
        "\n"
      ],
      "execution_count": null,
      "outputs": [
        {
          "output_type": "stream",
          "name": "stdout",
          "text": [
            "Enter the number of items purchase: 5\n",
            "No:of items purchased by the customer is:  5\n",
            "Please enter the cost of all the units purchased\n",
            "667\n",
            "667\n",
            "998\n",
            "456\n",
            "342\n",
            "Each unit cost would be:  [667, 667, 998, 456, 342]\n",
            "Total of all the items would be:  3130\n"
          ]
        }
      ]
    },
    {
      "cell_type": "code",
      "metadata": {
        "id": "MvznCByD4LQO"
      },
      "source": [],
      "execution_count": null,
      "outputs": []
    },
    {
      "cell_type": "code",
      "metadata": {
        "id": "lusMORd0EiAb",
        "colab": {
          "base_uri": "https://localhost:8080/"
        },
        "outputId": "b2a7baad-343a-457a-e9d5-022585f74115"
      },
      "source": [
        "'''\n",
        "/ A shopkeeper gives a discount of 10% if the cost of the purchase quantity is more than 1000. WAP to ask the user for quantity.\n",
        "Considering one unit will cost 100 calculate the total cost to be paid by the user /\n",
        "'''\n",
        "\n",
        "X = int(input(\"Enter the number of items purchase: \"))\n",
        "#print(\"No:of items purchased by the customer is: \",X)\n",
        "\n",
        "Total = X*100\n",
        "\n",
        "if Total > 1000:\n",
        "  disc = Total*0.10\n",
        "  Total = Total-disc\n",
        "  print(\"You will get an discount 10%, so you need to pay: \", Total)\n",
        "else:\n",
        "  print(\"No discount for this amount, you need to pay: \",Total)\n",
        "\n"
      ],
      "execution_count": null,
      "outputs": [
        {
          "output_type": "stream",
          "name": "stdout",
          "text": [
            "Enter the number of items purchase: 79\n",
            "You will get an discount 10%, so you need to pay:  7110.0\n"
          ]
        }
      ]
    },
    {
      "cell_type": "code",
      "metadata": {
        "id": "rsa60Swt5z1M",
        "colab": {
          "base_uri": "https://localhost:8080/"
        },
        "outputId": "83426706-29af-4c67-8fe6-83ea613ae76c"
      },
      "source": [
        "#School Grading System\n",
        "\n",
        "X = float(input(\"Enter the mark: \"))\n",
        "\n",
        "if (X > 80) & (X < 100) :\n",
        "  print(\"Your grade is A\")\n",
        "elif (X < 80) & (X > 60):\n",
        "  print(\"Your grade is B\")\n",
        "elif (X < 60) & (X > 50):\n",
        "  print(\"Your Grade is C\")\n",
        "elif (X < 50) & (X > 45):\n",
        "  print(\"Your Grade is D\")\n",
        "elif (X < 45) & (X > 25):\n",
        "  print(\"Your Grade is E\")\n",
        "elif X < 25:\n",
        "  print(\"You have failed,Best luck next time\")\n",
        "else:\n",
        "  print(\"Enter a valid input\")\n"
      ],
      "execution_count": null,
      "outputs": [
        {
          "output_type": "stream",
          "name": "stdout",
          "text": [
            "Enter the mark: 95\n",
            "Your grade is A\n"
          ]
        }
      ]
    },
    {
      "cell_type": "code",
      "metadata": {
        "colab": {
          "base_uri": "https://localhost:8080/"
        },
        "id": "WFCiq15G_eKF",
        "outputId": "98777511-2ca5-4b66-dac8-948177a6281e"
      },
      "source": [
        "# To check if the entered number is a palindrome\n",
        "\n",
        "value = int(input(\"Enter the number to check if its a palindrome\"))\n",
        "value1 = value\n",
        "r=0\n",
        "while(value>0):\n",
        "  i = value%10\n",
        "  r = r * 10 + i\n",
        "  value = value // 10\n",
        "if (value1==r):\n",
        "  print(value1,\"is a palindrome\")\n",
        "else:\n",
        "  print(value1,\"is not a palindrome\")"
      ],
      "execution_count": null,
      "outputs": [
        {
          "output_type": "stream",
          "name": "stdout",
          "text": [
            "Enter the number to check if its a palindrome50505\n",
            "50505 is a palindrome\n"
          ]
        }
      ]
    },
    {
      "cell_type": "code",
      "metadata": {
        "id": "WLSHy7Cb1VeH"
      },
      "source": [],
      "execution_count": null,
      "outputs": []
    },
    {
      "cell_type": "code",
      "metadata": {
        "colab": {
          "base_uri": "https://localhost:8080/"
        },
        "id": "Y0hxF71FCPxD",
        "outputId": "c53b84d1-932a-4636-b56a-f55302fb3d64"
      },
      "source": [
        "#Multiplication table of given number\n",
        "\n",
        "X = int(input(\"Enter the number to perform multiplication: \"))\n",
        "\n",
        "for i in range (1,11):\n",
        "  print(X, \"X\" ,i, \"=\" ,X*i)\n"
      ],
      "execution_count": null,
      "outputs": [
        {
          "output_type": "stream",
          "name": "stdout",
          "text": [
            "Enter the number to perform multiplication: 112\n",
            "112 X 1 = 112\n",
            "112 X 2 = 224\n",
            "112 X 3 = 336\n",
            "112 X 4 = 448\n",
            "112 X 5 = 560\n",
            "112 X 6 = 672\n",
            "112 X 7 = 784\n",
            "112 X 8 = 896\n",
            "112 X 9 = 1008\n",
            "112 X 10 = 1120\n"
          ]
        }
      ]
    },
    {
      "cell_type": "code",
      "metadata": {
        "colab": {
          "base_uri": "https://localhost:8080/"
        },
        "id": "oir3lnxeDaIF",
        "outputId": "1da84537-bfc6-4205-a251-302d48d8d0db"
      },
      "source": [
        "#Take 2 list from the user and create a new list with even and odd number\n",
        "\n",
        "lst1 = []\n",
        "lst2 = []\n",
        "X = int(input(\"Enter the number of elements for list1:\"))\n",
        "\n",
        "print(\"Enter the 1st list elements: \")\n",
        "for i in range (0,X): #get the 1st list input from user\n",
        "  ele1 = int(input())\n",
        "  lst1.append(ele1)\n",
        "print(lst1)\n",
        "\n",
        "Y = int(input(\"Enter the number of elements for list2: \"))\n",
        "\n",
        "print(\"Enter the 2nd list elements: \")\n",
        "for j in range(0,Y):  #get the 2nd list input from user\n",
        "  ele2 = int(input())\n",
        "  lst2.append(ele2)\n",
        "print(lst2)\n",
        "\n",
        "new_lst = lst1 + lst2 #a new list combaining two user input\n",
        "new_lst.sort()\n",
        "\n",
        "even_lst = []\n",
        "odd_lst = []\n",
        "for num in new_lst:\n",
        "  if num%2 == 0:\n",
        "    even_lst.append(num)\n",
        "    even_lst.sort()\n",
        "  else:\n",
        "    odd_lst.append(num)\n",
        "    odd_lst.sort()\n",
        "print(\"Sorted Combained list will be: \",new_lst)\n",
        "print(\"Sorted Even number list will be: \",even_lst)\n",
        "print(\"Sorted Odd number list will be\",odd_lst)\n",
        "\n",
        "\n",
        "\n",
        "\n",
        ""
      ],
      "execution_count": null,
      "outputs": [
        {
          "output_type": "stream",
          "name": "stdout",
          "text": [
            "Enter the number of elements for list1:5\n",
            "Enter the 1st list elements: \n",
            "21\n",
            "22\n",
            "23\n",
            "24\n",
            "25\n",
            "[21, 22, 23, 24, 25]\n",
            "Enter the number of elements for list2: 5\n",
            "Enter the 2nd list elements: \n",
            "51\n",
            "52\n",
            "67\n",
            "84\n",
            "95\n",
            "[51, 52, 67, 84, 95]\n",
            "Combained list will be:  [21, 22, 23, 24, 25, 51, 52, 67, 84, 95]\n",
            "Even number list will be:  [22, 24, 52, 84]\n",
            "Odd number list will be [21, 23, 25, 51, 67, 95]\n"
          ]
        }
      ]
    },
    {
      "cell_type": "code",
      "metadata": {
        "id": "srsjiiBFMNkO",
        "colab": {
          "base_uri": "https://localhost:8080/"
        },
        "outputId": "8d49f4b7-2552-4ca9-f799-bbdeda6d706c"
      },
      "source": [
        "#matrix multiplication with 2*2 matrix\n",
        "\n",
        "lst1 = []\n",
        "for i in range (0,4):\n",
        "\n",
        "\n",
        "\n"
      ],
      "execution_count": null,
      "outputs": [
        {
          "output_type": "stream",
          "name": "stdout",
          "text": [
            "Enter the matrix number4\n",
            "Enter the matrix number6\n",
            "Enter the matrix number7\n",
            "Enter the matrix number2\n",
            "[4, 6, 7, 2]\n"
          ]
        }
      ]
    },
    {
      "cell_type": "code",
      "metadata": {
        "colab": {
          "base_uri": "https://localhost:8080/"
        },
        "id": "Hf9aBWB96FBr",
        "outputId": "a38ec75d-7145-4023-f3f1-3556097b503d"
      },
      "source": [
        "A=[]\n",
        "n=2\n",
        "print(\"Enter the element ::>\")\n",
        "for i in range(n):\n",
        "   row=[]\n",
        "   for j in range(i):\n",
        "      row.append(int(input()))\n",
        "      print(row)\n",
        "      A.append(row)\n",
        "\n",
        "print(A)\n"
      ],
      "execution_count": null,
      "outputs": [
        {
          "output_type": "stream",
          "name": "stdout",
          "text": [
            "Enter the element ::>\n",
            "5\n",
            "[5]\n",
            "[[5]]\n"
          ]
        }
      ]
    },
    {
      "cell_type": "code",
      "metadata": {
        "colab": {
          "base_uri": "https://localhost:8080/",
          "height": 452
        },
        "id": "_Is5sX6K7-rH",
        "outputId": "6991f8f0-18b6-4614-983f-5c724a5d615c"
      },
      "source": [
        "list1 = []\n",
        "n1 = 2\n",
        "print(\"Enter the Matrix1 element:-->\")\n",
        "\n",
        "for i in range(0,n1):\n",
        "    row=[]\n",
        "    for j in range(0,n1):\n",
        "      row.append(int(input()))\n",
        "      #print(j)\n",
        "      #print(row)\n",
        "    #print(i)\n",
        "    list1.append(row)\n",
        "print(list1)\n",
        "\n",
        "lst2 = []\n",
        "print(\"Enter the Matrix2 elements:-->\")\n",
        "\n",
        "for x in range(0,n1):\n",
        "  row1=[]\n",
        "  for y in range(0,n1):\n",
        "    row1.append(int(input()))\n",
        "  lst2.append(row1)\n",
        "print(lst2)\n",
        "\n",
        "#Matrix multiplication\n",
        "lst3 = []\n",
        "print(\"The result of the Matrix multiplication is: \")\n",
        "for i in range(0,n1):\n",
        "  for j in range(0,n1[0]):\n",
        "    for k in range(0,n1):\n",
        "      lst3[i][j] +=\n",
        "  print(lst3)\n",
        "\n",
        "\n",
        ""
      ],
      "execution_count": null,
      "outputs": [
        {
          "output_type": "stream",
          "name": "stdout",
          "text": [
            "Enter the Matrix1 element:-->\n",
            "3\n",
            "4\n",
            "5\n",
            "6\n",
            "[[3, 4], [5, 6]]\n",
            "Enter the Matrix2 elements:-->\n",
            "1\n",
            "2\n",
            "3\n",
            "4\n",
            "[[1, 2], [3, 4]]\n",
            "The result of the Matrix multiplication is: \n"
          ]
        },
        {
          "output_type": "error",
          "ename": "IndexError",
          "evalue": "ignored",
          "traceback": [
            "\u001b[0;31m---------------------------------------------------------------------------\u001b[0m",
            "\u001b[0;31mIndexError\u001b[0m                                Traceback (most recent call last)",
            "\u001b[0;32m<ipython-input-33-62cb413d5240>\u001b[0m in \u001b[0;36m<module>\u001b[0;34m()\u001b[0m\n\u001b[1;32m     28\u001b[0m \u001b[0;32mfor\u001b[0m \u001b[0mi\u001b[0m \u001b[0;32min\u001b[0m \u001b[0mrange\u001b[0m\u001b[0;34m(\u001b[0m\u001b[0;36m0\u001b[0m\u001b[0;34m,\u001b[0m\u001b[0mn1\u001b[0m\u001b[0;34m)\u001b[0m\u001b[0;34m:\u001b[0m\u001b[0;34m\u001b[0m\u001b[0;34m\u001b[0m\u001b[0m\n\u001b[1;32m     29\u001b[0m   \u001b[0;32mfor\u001b[0m \u001b[0mj\u001b[0m \u001b[0;32min\u001b[0m \u001b[0mrange\u001b[0m\u001b[0;34m(\u001b[0m\u001b[0;36m0\u001b[0m\u001b[0;34m,\u001b[0m\u001b[0mn1\u001b[0m\u001b[0;34m)\u001b[0m\u001b[0;34m:\u001b[0m\u001b[0;34m\u001b[0m\u001b[0;34m\u001b[0m\u001b[0m\n\u001b[0;32m---> 30\u001b[0;31m     \u001b[0mlst3\u001b[0m\u001b[0;34m[\u001b[0m\u001b[0mi\u001b[0m\u001b[0;34m]\u001b[0m\u001b[0;34m[\u001b[0m\u001b[0mj\u001b[0m\u001b[0;34m]\u001b[0m\u001b[0;34m\u001b[0m\u001b[0;34m\u001b[0m\u001b[0m\n\u001b[0m\u001b[1;32m     31\u001b[0m   \u001b[0mprint\u001b[0m\u001b[0;34m(\u001b[0m\u001b[0mlst3\u001b[0m\u001b[0;34m)\u001b[0m\u001b[0;34m\u001b[0m\u001b[0;34m\u001b[0m\u001b[0m\n\u001b[1;32m     32\u001b[0m \u001b[0;34m\u001b[0m\u001b[0m\n",
            "\u001b[0;31mIndexError\u001b[0m: list index out of range"
          ]
        }
      ]
    }
  ]
}