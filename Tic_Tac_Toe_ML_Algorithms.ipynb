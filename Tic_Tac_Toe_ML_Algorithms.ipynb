{
  "nbformat": 4,
  "nbformat_minor": 0,
  "metadata": {
    "colab": {
      "provenance": []
    },
    "kernelspec": {
      "name": "python3",
      "display_name": "Python 3"
    },
    "language_info": {
      "name": "python"
    }
  },
  "cells": [
    {
      "cell_type": "code",
      "execution_count": null,
      "metadata": {
        "id": "PXAkKVof0JQu"
      },
      "outputs": [],
      "source": [
        "#Importing the Header\n",
        "\n",
        "import pandas as pd\n",
        "import numpy as np\n",
        "from sklearn import preprocessing\n",
        "from sklearn.ensemble import AdaBoostClassifier\n",
        "from sklearn.ensemble import RandomForestClassifier\n",
        "from sklearn.model_selection import KFold,cross_val_score\n",
        "from sklearn.metrics import accuracy_score"
      ]
    },
    {
      "cell_type": "code",
      "source": [
        "#Load the dataset\n",
        "data = pd.read_csv('/content/tic-tac-toe.txt')"
      ],
      "metadata": {
        "id": "pig_numP0_7e"
      },
      "execution_count": null,
      "outputs": []
    },
    {
      "cell_type": "code",
      "source": [
        "data.columns = ['top_left_square','top_middle_square','top_right_square','middle_left_square','middle_middle_square',\n",
        "                'middle_right_square','bottom_left_square','bottom_middle_square','bottom_right_square','predict_class']"
      ],
      "metadata": {
        "id": "NiAe7uYb1Nl9"
      },
      "execution_count": null,
      "outputs": []
    },
    {
      "cell_type": "code",
      "source": [
        "data.info()"
      ],
      "metadata": {
        "colab": {
          "base_uri": "https://localhost:8080/"
        },
        "id": "wdLHPe021QjS",
        "outputId": "c409dceb-47b2-453e-8985-a8b78be8296d"
      },
      "execution_count": null,
      "outputs": [
        {
          "output_type": "stream",
          "name": "stdout",
          "text": [
            "<class 'pandas.core.frame.DataFrame'>\n",
            "RangeIndex: 957 entries, 0 to 956\n",
            "Data columns (total 10 columns):\n",
            " #   Column                Non-Null Count  Dtype \n",
            "---  ------                --------------  ----- \n",
            " 0   top_left_square       957 non-null    object\n",
            " 1   top_middle_square     957 non-null    object\n",
            " 2   top_right_square      957 non-null    object\n",
            " 3   middle_left_square    957 non-null    object\n",
            " 4   middle_middle_square  957 non-null    object\n",
            " 5   middle_right_square   957 non-null    object\n",
            " 6   bottom_left_square    957 non-null    object\n",
            " 7   bottom_middle_square  957 non-null    object\n",
            " 8   bottom_right_square   957 non-null    object\n",
            " 9   predict_class         957 non-null    object\n",
            "dtypes: object(10)\n",
            "memory usage: 74.9+ KB\n"
          ]
        }
      ]
    },
    {
      "cell_type": "markdown",
      "source": [
        "Data type of the object should be changed to string before performing any operation"
      ],
      "metadata": {
        "id": "QCaJmG1ID7Sj"
      }
    },
    {
      "cell_type": "code",
      "source": [
        "#change the Dtypes as mentioned\n",
        "data.top_left_square = data.top_left_square.astype('string')\n",
        "data.top_middle_square = data.top_middle_square.astype('string')\n",
        "data.top_right_square = data.top_right_square.astype('string')\n",
        "data.middle_left_square = data.middle_left_square.astype('string')\n",
        "data.middle_middle_square = data.middle_middle_square.astype('string')\n",
        "data.middle_right_square = data.middle_right_square.astype('string')\n",
        "data.bottom_left_square = data.bottom_left_square.astype('string')\n",
        "data.bottom_middle_square = data.bottom_middle_square.astype('string')\n",
        "data.bottom_right_square = data.bottom_right_square.astype('string')\n",
        "data.predict_class = data.predict_class.astype('string')"
      ],
      "metadata": {
        "id": "2CcyKnp51Til"
      },
      "execution_count": null,
      "outputs": []
    },
    {
      "cell_type": "code",
      "source": [
        "data.info()"
      ],
      "metadata": {
        "colab": {
          "base_uri": "https://localhost:8080/"
        },
        "id": "6Y7vUMdl1YVD",
        "outputId": "3f89a243-e5ba-468a-cd0f-a88471c5de03"
      },
      "execution_count": null,
      "outputs": [
        {
          "output_type": "stream",
          "name": "stdout",
          "text": [
            "<class 'pandas.core.frame.DataFrame'>\n",
            "RangeIndex: 957 entries, 0 to 956\n",
            "Data columns (total 10 columns):\n",
            " #   Column                Non-Null Count  Dtype \n",
            "---  ------                --------------  ----- \n",
            " 0   top_left_square       957 non-null    string\n",
            " 1   top_middle_square     957 non-null    string\n",
            " 2   top_right_square      957 non-null    string\n",
            " 3   middle_left_square    957 non-null    string\n",
            " 4   middle_middle_square  957 non-null    string\n",
            " 5   middle_right_square   957 non-null    string\n",
            " 6   bottom_left_square    957 non-null    string\n",
            " 7   bottom_middle_square  957 non-null    string\n",
            " 8   bottom_right_square   957 non-null    string\n",
            " 9   predict_class         957 non-null    string\n",
            "dtypes: string(10)\n",
            "memory usage: 74.9 KB\n"
          ]
        }
      ]
    },
    {
      "cell_type": "markdown",
      "source": [
        "Label encoder is used to change the categorical values to numerical values for accurate results"
      ],
      "metadata": {
        "id": "M8KIcqjrE8ii"
      }
    },
    {
      "cell_type": "code",
      "source": [
        "#Using label encoder to encode the values in dataset\n",
        "le = preprocessing.LabelEncoder()\n",
        "data['predict_class'] = le.fit_transform(data['predict_class'])"
      ],
      "metadata": {
        "id": "pFAhMxxh1Z8S"
      },
      "execution_count": null,
      "outputs": []
    },
    {
      "cell_type": "code",
      "source": [
        "data = data.replace('x','2')\n",
        "data = data.replace('o','1')\n",
        "data = data.replace('b','0')"
      ],
      "metadata": {
        "id": "TgSKHUGG1c-W"
      },
      "execution_count": null,
      "outputs": []
    },
    {
      "cell_type": "code",
      "source": [
        "data.head(3)"
      ],
      "metadata": {
        "colab": {
          "base_uri": "https://localhost:8080/",
          "height": 207
        },
        "id": "GaqN8FOu1gaG",
        "outputId": "c1645af5-373c-45cb-af6d-2a10885171b6"
      },
      "execution_count": null,
      "outputs": [
        {
          "output_type": "execute_result",
          "data": {
            "text/plain": [
              "  top_left_square top_middle_square top_right_square middle_left_square  \\\n",
              "0               2                 2                2                  2   \n",
              "1               2                 2                2                  2   \n",
              "2               2                 2                2                  2   \n",
              "\n",
              "  middle_middle_square middle_right_square bottom_left_square  \\\n",
              "0                    1                   1                  1   \n",
              "1                    1                   1                  1   \n",
              "2                    1                   1                  1   \n",
              "\n",
              "  bottom_middle_square bottom_right_square  predict_class  \n",
              "0                    2                   1              1  \n",
              "1                    1                   2              1  \n",
              "2                    0                   0              1  "
            ],
            "text/html": [
              "\n",
              "  <div id=\"df-d34eff28-d8dd-4d00-aac7-a6663e15f482\">\n",
              "    <div class=\"colab-df-container\">\n",
              "      <div>\n",
              "<style scoped>\n",
              "    .dataframe tbody tr th:only-of-type {\n",
              "        vertical-align: middle;\n",
              "    }\n",
              "\n",
              "    .dataframe tbody tr th {\n",
              "        vertical-align: top;\n",
              "    }\n",
              "\n",
              "    .dataframe thead th {\n",
              "        text-align: right;\n",
              "    }\n",
              "</style>\n",
              "<table border=\"1\" class=\"dataframe\">\n",
              "  <thead>\n",
              "    <tr style=\"text-align: right;\">\n",
              "      <th></th>\n",
              "      <th>top_left_square</th>\n",
              "      <th>top_middle_square</th>\n",
              "      <th>top_right_square</th>\n",
              "      <th>middle_left_square</th>\n",
              "      <th>middle_middle_square</th>\n",
              "      <th>middle_right_square</th>\n",
              "      <th>bottom_left_square</th>\n",
              "      <th>bottom_middle_square</th>\n",
              "      <th>bottom_right_square</th>\n",
              "      <th>predict_class</th>\n",
              "    </tr>\n",
              "  </thead>\n",
              "  <tbody>\n",
              "    <tr>\n",
              "      <th>0</th>\n",
              "      <td>2</td>\n",
              "      <td>2</td>\n",
              "      <td>2</td>\n",
              "      <td>2</td>\n",
              "      <td>1</td>\n",
              "      <td>1</td>\n",
              "      <td>1</td>\n",
              "      <td>2</td>\n",
              "      <td>1</td>\n",
              "      <td>1</td>\n",
              "    </tr>\n",
              "    <tr>\n",
              "      <th>1</th>\n",
              "      <td>2</td>\n",
              "      <td>2</td>\n",
              "      <td>2</td>\n",
              "      <td>2</td>\n",
              "      <td>1</td>\n",
              "      <td>1</td>\n",
              "      <td>1</td>\n",
              "      <td>1</td>\n",
              "      <td>2</td>\n",
              "      <td>1</td>\n",
              "    </tr>\n",
              "    <tr>\n",
              "      <th>2</th>\n",
              "      <td>2</td>\n",
              "      <td>2</td>\n",
              "      <td>2</td>\n",
              "      <td>2</td>\n",
              "      <td>1</td>\n",
              "      <td>1</td>\n",
              "      <td>1</td>\n",
              "      <td>0</td>\n",
              "      <td>0</td>\n",
              "      <td>1</td>\n",
              "    </tr>\n",
              "  </tbody>\n",
              "</table>\n",
              "</div>\n",
              "      <button class=\"colab-df-convert\" onclick=\"convertToInteractive('df-d34eff28-d8dd-4d00-aac7-a6663e15f482')\"\n",
              "              title=\"Convert this dataframe to an interactive table.\"\n",
              "              style=\"display:none;\">\n",
              "        \n",
              "  <svg xmlns=\"http://www.w3.org/2000/svg\" height=\"24px\"viewBox=\"0 0 24 24\"\n",
              "       width=\"24px\">\n",
              "    <path d=\"M0 0h24v24H0V0z\" fill=\"none\"/>\n",
              "    <path d=\"M18.56 5.44l.94 2.06.94-2.06 2.06-.94-2.06-.94-.94-2.06-.94 2.06-2.06.94zm-11 1L8.5 8.5l.94-2.06 2.06-.94-2.06-.94L8.5 2.5l-.94 2.06-2.06.94zm10 10l.94 2.06.94-2.06 2.06-.94-2.06-.94-.94-2.06-.94 2.06-2.06.94z\"/><path d=\"M17.41 7.96l-1.37-1.37c-.4-.4-.92-.59-1.43-.59-.52 0-1.04.2-1.43.59L10.3 9.45l-7.72 7.72c-.78.78-.78 2.05 0 2.83L4 21.41c.39.39.9.59 1.41.59.51 0 1.02-.2 1.41-.59l7.78-7.78 2.81-2.81c.8-.78.8-2.07 0-2.86zM5.41 20L4 18.59l7.72-7.72 1.47 1.35L5.41 20z\"/>\n",
              "  </svg>\n",
              "      </button>\n",
              "      \n",
              "  <style>\n",
              "    .colab-df-container {\n",
              "      display:flex;\n",
              "      flex-wrap:wrap;\n",
              "      gap: 12px;\n",
              "    }\n",
              "\n",
              "    .colab-df-convert {\n",
              "      background-color: #E8F0FE;\n",
              "      border: none;\n",
              "      border-radius: 50%;\n",
              "      cursor: pointer;\n",
              "      display: none;\n",
              "      fill: #1967D2;\n",
              "      height: 32px;\n",
              "      padding: 0 0 0 0;\n",
              "      width: 32px;\n",
              "    }\n",
              "\n",
              "    .colab-df-convert:hover {\n",
              "      background-color: #E2EBFA;\n",
              "      box-shadow: 0px 1px 2px rgba(60, 64, 67, 0.3), 0px 1px 3px 1px rgba(60, 64, 67, 0.15);\n",
              "      fill: #174EA6;\n",
              "    }\n",
              "\n",
              "    [theme=dark] .colab-df-convert {\n",
              "      background-color: #3B4455;\n",
              "      fill: #D2E3FC;\n",
              "    }\n",
              "\n",
              "    [theme=dark] .colab-df-convert:hover {\n",
              "      background-color: #434B5C;\n",
              "      box-shadow: 0px 1px 3px 1px rgba(0, 0, 0, 0.15);\n",
              "      filter: drop-shadow(0px 1px 2px rgba(0, 0, 0, 0.3));\n",
              "      fill: #FFFFFF;\n",
              "    }\n",
              "  </style>\n",
              "\n",
              "      <script>\n",
              "        const buttonEl =\n",
              "          document.querySelector('#df-d34eff28-d8dd-4d00-aac7-a6663e15f482 button.colab-df-convert');\n",
              "        buttonEl.style.display =\n",
              "          google.colab.kernel.accessAllowed ? 'block' : 'none';\n",
              "\n",
              "        async function convertToInteractive(key) {\n",
              "          const element = document.querySelector('#df-d34eff28-d8dd-4d00-aac7-a6663e15f482');\n",
              "          const dataTable =\n",
              "            await google.colab.kernel.invokeFunction('convertToInteractive',\n",
              "                                                     [key], {});\n",
              "          if (!dataTable) return;\n",
              "\n",
              "          const docLinkHtml = 'Like what you see? Visit the ' +\n",
              "            '<a target=\"_blank\" href=https://colab.research.google.com/notebooks/data_table.ipynb>data table notebook</a>'\n",
              "            + ' to learn more about interactive tables.';\n",
              "          element.innerHTML = '';\n",
              "          dataTable['output_type'] = 'display_data';\n",
              "          await google.colab.output.renderOutput(dataTable, element);\n",
              "          const docLink = document.createElement('div');\n",
              "          docLink.innerHTML = docLinkHtml;\n",
              "          element.appendChild(docLink);\n",
              "        }\n",
              "      </script>\n",
              "    </div>\n",
              "  </div>\n",
              "  "
            ]
          },
          "metadata": {},
          "execution_count": 9
        }
      ]
    },
    {
      "cell_type": "code",
      "source": [
        "# check for null values\n",
        "data.isnull().sum()"
      ],
      "metadata": {
        "colab": {
          "base_uri": "https://localhost:8080/"
        },
        "id": "7M_MkBN-1hol",
        "outputId": "5290417c-10d6-44c0-fe0c-b821e2e55463"
      },
      "execution_count": null,
      "outputs": [
        {
          "output_type": "execute_result",
          "data": {
            "text/plain": [
              "top_left_square         0\n",
              "top_middle_square       0\n",
              "top_right_square        0\n",
              "middle_left_square      0\n",
              "middle_middle_square    0\n",
              "middle_right_square     0\n",
              "bottom_left_square      0\n",
              "bottom_middle_square    0\n",
              "bottom_right_square     0\n",
              "predict_class           0\n",
              "dtype: int64"
            ]
          },
          "metadata": {},
          "execution_count": 10
        }
      ]
    },
    {
      "cell_type": "code",
      "source": [
        "# Assign the dependent and Independent variables\n",
        "X = data.drop('predict_class' , axis = 1)\n",
        "Y = data['predict_class']\n",
        "X.shape,Y.shape"
      ],
      "metadata": {
        "colab": {
          "base_uri": "https://localhost:8080/"
        },
        "id": "e2ZsmnnI1k9U",
        "outputId": "1e3a1c20-8c52-42e2-ecf4-d21e1a7aa509"
      },
      "execution_count": null,
      "outputs": [
        {
          "output_type": "execute_result",
          "data": {
            "text/plain": [
              "((957, 9), (957,))"
            ]
          },
          "metadata": {},
          "execution_count": 11
        }
      ]
    },
    {
      "cell_type": "code",
      "source": [
        "# Split the data into Train,test set with random state = 3\n",
        "\n",
        "from sklearn.model_selection import train_test_split\n",
        "\n",
        "X_train, X_test, Y_train, Y_test = train_test_split(X, Y, random_state = 3, test_size=0.2)\n",
        "\n",
        "X_train.shape,X_test.shape,Y_train.shape,Y_test.shape"
      ],
      "metadata": {
        "colab": {
          "base_uri": "https://localhost:8080/"
        },
        "id": "Jb9n4nm-1ols",
        "outputId": "2747e79b-5344-4850-bda9-38b1c42e8661"
      },
      "execution_count": null,
      "outputs": [
        {
          "output_type": "execute_result",
          "data": {
            "text/plain": [
              "((765, 9), (192, 9), (765,), (192,))"
            ]
          },
          "metadata": {},
          "execution_count": 12
        }
      ]
    },
    {
      "cell_type": "code",
      "source": [
        "# Train the  Randomforest classifier model with random state as 0 and n_estimator as 100\n",
        "\n",
        "model_1 = RandomForestClassifier(n_estimators=100,random_state=0)\n",
        "model_1.fit(X_train,Y_train)"
      ],
      "metadata": {
        "colab": {
          "base_uri": "https://localhost:8080/"
        },
        "id": "9W0sYeMQ1yFZ",
        "outputId": "50dc9a3d-529e-481e-89b1-5781640afe7c"
      },
      "execution_count": null,
      "outputs": [
        {
          "output_type": "execute_result",
          "data": {
            "text/plain": [
              "RandomForestClassifier(random_state=0)"
            ]
          },
          "metadata": {},
          "execution_count": 22
        }
      ]
    },
    {
      "cell_type": "code",
      "source": [
        "#Predict the Train and Test values\n",
        "\n",
        "Y_test_pred = model_1.predict(X_test)\n",
        "Y_train_pred = model_1.predict(X_train)"
      ],
      "metadata": {
        "id": "NdSBxbos12-h"
      },
      "execution_count": null,
      "outputs": []
    },
    {
      "cell_type": "code",
      "source": [
        "# Accuracy scores\n",
        "\n",
        "print(\"Testing accuracy scores are\", accuracy_score(Y_test,Y_test_pred))\n",
        "print(\"Training accuracy scores are : \",accuracy_score(Y_train,Y_train_pred))"
      ],
      "metadata": {
        "colab": {
          "base_uri": "https://localhost:8080/"
        },
        "id": "MQyCk2f22Yq_",
        "outputId": "2207ac47-fc11-472b-f23e-d93889eef748"
      },
      "execution_count": null,
      "outputs": [
        {
          "output_type": "stream",
          "name": "stdout",
          "text": [
            "Testing accuracy scores are 0.96875\n",
            "Training accuracy scores are :  1.0\n"
          ]
        }
      ]
    },
    {
      "cell_type": "code",
      "source": [
        "# Perform k-fold cross validation technique\n",
        "\n",
        "kfold=KFold(n_splits = 10)\n",
        "\n",
        "cross_validation = cross_val_score(model_1,X_train,Y_train,scoring = 'accuracy', cv = kfold)"
      ],
      "metadata": {
        "id": "I06txGpI21CP"
      },
      "execution_count": null,
      "outputs": []
    },
    {
      "cell_type": "code",
      "source": [
        "print(\"Cross validation score mean : \",cross_validation.mean())"
      ],
      "metadata": {
        "colab": {
          "base_uri": "https://localhost:8080/"
        },
        "id": "laVC65SJ26b-",
        "outputId": "44a40102-77fa-42a4-97ed-f7341722f435"
      },
      "execution_count": null,
      "outputs": [
        {
          "output_type": "stream",
          "name": "stdout",
          "text": [
            "Cross validation score mean :  0.9358680792891318\n"
          ]
        }
      ]
    },
    {
      "cell_type": "code",
      "source": [
        "# Using Adaboost algorithm with random state = 0 and n_estimator = 100\n",
        "\n",
        "abc = AdaBoostClassifier(n_estimators=100,random_state=0)\n",
        "abc.fit(X_train,Y_train)"
      ],
      "metadata": {
        "colab": {
          "base_uri": "https://localhost:8080/"
        },
        "id": "EgWcHwXt4OWY",
        "outputId": "1fdc9364-3d72-4837-87f2-aa457822f4d1"
      },
      "execution_count": null,
      "outputs": [
        {
          "output_type": "execute_result",
          "data": {
            "text/plain": [
              "AdaBoostClassifier(n_estimators=100, random_state=0)"
            ]
          },
          "metadata": {},
          "execution_count": 18
        }
      ]
    },
    {
      "cell_type": "code",
      "source": [
        "#Predict the Train and Test values\n",
        "\n",
        "Y_test_pred = abc.predict(X_test)\n",
        "Y_train_pred = abc.predict(X_train)"
      ],
      "metadata": {
        "id": "vFLPnh2u4WHT"
      },
      "execution_count": null,
      "outputs": []
    },
    {
      "cell_type": "code",
      "source": [
        "# Accuracy scores\n",
        "\n",
        "print(\"Training accuracy scores are\", accuracy_score(Y_test,Y_test_pred))\n",
        "print(\"Testing accuracy scores are : \",accuracy_score(Y_train,Y_train_pred))"
      ],
      "metadata": {
        "colab": {
          "base_uri": "https://localhost:8080/"
        },
        "id": "PFDGikgh6FHh",
        "outputId": "385d3d51-a87a-4462-927d-cf057c89fc23"
      },
      "execution_count": null,
      "outputs": [
        {
          "output_type": "stream",
          "name": "stdout",
          "text": [
            "Training accuracy scores are 0.8697916666666666\n",
            "Testing accuracy scores are :  0.8339869281045752\n"
          ]
        }
      ]
    },
    {
      "cell_type": "code",
      "source": [
        "# Perform k-fold cross validation technique\n",
        "\n",
        "kfold=KFold(n_splits = 20)\n",
        "\n",
        "cross_validation_1 = cross_val_score(abc,X_train,Y_train,scoring = 'accuracy', cv = kfold)\n",
        "\n"
      ],
      "metadata": {
        "id": "GGRH4nxy6Myj"
      },
      "execution_count": null,
      "outputs": []
    },
    {
      "cell_type": "code",
      "source": [
        "print(\"Cross validation score mean : \",cross_validation_1.mean())"
      ],
      "metadata": {
        "id": "lWoqaXJb6UOf",
        "colab": {
          "base_uri": "https://localhost:8080/"
        },
        "outputId": "6ccd7a6a-a0fe-4626-b92a-06b283f6d0d4"
      },
      "execution_count": null,
      "outputs": [
        {
          "output_type": "stream",
          "name": "stdout",
          "text": [
            "Cross validation score mean :  0.8091093117408906\n"
          ]
        }
      ]
    },
    {
      "cell_type": "code",
      "source": [
        "cv_RF = np.round(cross_validation.mean(),3)\n",
        "cv_ADA = np.round(cross_validation_1.mean(),3)"
      ],
      "metadata": {
        "id": "iG0XnUlVKmQj"
      },
      "execution_count": null,
      "outputs": []
    },
    {
      "cell_type": "code",
      "source": [
        "list1 = []\n",
        "list1.append(cv_RF)\n",
        "list1.append(cv_ADA)\n",
        "print(list1)"
      ],
      "metadata": {
        "id": "w0k0c1hx6e5U",
        "colab": {
          "base_uri": "https://localhost:8080/"
        },
        "outputId": "78288a6f-0d96-4387-e7da-346d24e1c5df"
      },
      "execution_count": null,
      "outputs": [
        {
          "output_type": "stream",
          "name": "stdout",
          "text": [
            "[0.936, 0.809]\n"
          ]
        }
      ]
    },
    {
      "cell_type": "code",
      "source": [
        "data=pd.DataFrame(list1)\n",
        "data.to_csv('output.csv')"
      ],
      "metadata": {
        "id": "7z5yaQXdLYHn"
      },
      "execution_count": null,
      "outputs": []
    }
  ]
}