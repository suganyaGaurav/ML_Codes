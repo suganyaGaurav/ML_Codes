{
  "nbformat": 4,
  "nbformat_minor": 0,
  "metadata": {
    "colab": {
      "provenance": []
    },
    "kernelspec": {
      "name": "python3",
      "display_name": "Python 3"
    },
    "language_info": {
      "name": "python"
    }
  },
  "cells": [
    {
      "cell_type": "code",
      "metadata": {
        "colab": {
          "base_uri": "https://localhost:8080/"
        },
        "id": "XHvQOLcSPkfd",
        "outputId": "3b3d6012-b058-405c-ddff-4bf00d625bf5"
      },
      "source": [
        "List1 = ['hi','hello','how are you']\n",
        "print(List1)\n",
        "print(List1[2])\n",
        "list2 = List1 + [1,2,3,4,5,9]\n",
        "list2"
      ],
      "execution_count": null,
      "outputs": [
        {
          "output_type": "stream",
          "name": "stdout",
          "text": [
            "['hi', 'hello', 'how are you']\n",
            "how are you\n"
          ]
        },
        {
          "output_type": "execute_result",
          "data": {
            "text/plain": [
              "['hi', 'hello', 'how are you', 1, 2, 3, 4, 5, 9]"
            ]
          },
          "metadata": {},
          "execution_count": 10
        }
      ]
    },
    {
      "cell_type": "code",
      "metadata": {
        "id": "I07KskFqWNwN"
      },
      "source": [],
      "execution_count": null,
      "outputs": []
    },
    {
      "cell_type": "code",
      "metadata": {
        "colab": {
          "base_uri": "https://localhost:8080/"
        },
        "id": "TkILxuAeQdDq",
        "outputId": "deb3d472-a9a4-40df-fb4b-3a2359f78874"
      },
      "source": [
        "list2[-4]"
      ],
      "execution_count": null,
      "outputs": [
        {
          "output_type": "execute_result",
          "data": {
            "text/plain": [
              "3"
            ]
          },
          "metadata": {},
          "execution_count": 11
        }
      ]
    },
    {
      "cell_type": "code",
      "metadata": {
        "colab": {
          "base_uri": "https://localhost:8080/"
        },
        "id": "ZRCej-dPQywi",
        "outputId": "d6d8d34c-6a3e-46af-c3be-9f3f2e80cc20"
      },
      "source": [
        "\n",
        "squares = []\n",
        "\n",
        "for i in range(0,10):\n",
        "  i = i ** 2\n",
        "  squares.append(i)\n",
        "print(squares)\n",
        "\n",
        "cubes = []\n",
        "\n",
        "for j in range(0,10):\n",
        "  j = j ** 3\n",
        "  cubes.append(j)\n",
        "print(cubes)\n",
        "\n",
        "\n",
        "quadraples = []\n",
        "for k in range(0,10):\n",
        "  k = k ** 4\n",
        "  quadraples.append(k)\n",
        "print(quadraples)\n",
        "\n",
        "newlist = [squares,cubes,quadraples]\n",
        "print(newlist)"
      ],
      "execution_count": null,
      "outputs": [
        {
          "output_type": "stream",
          "name": "stdout",
          "text": [
            "[0, 1, 4, 9, 16, 25, 36, 49, 64, 81]\n",
            "[0, 1, 8, 27, 64, 125, 216, 343, 512, 729]\n",
            "[0, 1, 16, 81, 256, 625, 1296, 2401, 4096, 6561]\n",
            "[[0, 1, 4, 9, 16, 25, 36, 49, 64, 81], [0, 1, 8, 27, 64, 125, 216, 343, 512, 729], [0, 1, 16, 81, 256, 625, 1296, 2401, 4096, 6561]]\n"
          ]
        }
      ]
    },
    {
      "cell_type": "code",
      "metadata": {
        "colab": {
          "base_uri": "https://localhost:8080/"
        },
        "id": "T_CcuUGeXcv3",
        "outputId": "766b3208-cc07-46c6-f89d-1119a742b8e9"
      },
      "source": [
        "print(newlist.reverse())\n",
        "\n",
        "newlist.sort()\n",
        "print(newlist)"
      ],
      "execution_count": null,
      "outputs": [
        {
          "output_type": "stream",
          "name": "stdout",
          "text": [
            "None\n",
            "[[0, 1, 4, 9, 16, 25, 36, 49, 64, 81], [0, 1, 8, 27, 64, 125, 216, 343, 512, 729], [0, 1, 16, 81, 256, 625, 1296, 2401, 4096, 6561]]\n"
          ]
        }
      ]
    },
    {
      "cell_type": "code",
      "metadata": {
        "colab": {
          "base_uri": "https://localhost:8080/"
        },
        "id": "7yl8v3PDYaun",
        "outputId": "ac29df1f-1762-4ea5-ab8d-577706e8d8b3"
      },
      "source": [
        "newlist[0]"
      ],
      "execution_count": null,
      "outputs": [
        {
          "output_type": "execute_result",
          "data": {
            "text/plain": [
              "[0, 1, 4, 9, 16, 25, 36, 49, 64, 81]"
            ]
          },
          "metadata": {},
          "execution_count": 15
        }
      ]
    },
    {
      "cell_type": "code",
      "metadata": {
        "colab": {
          "base_uri": "https://localhost:8080/"
        },
        "id": "hYxY_Sv4Yk_R",
        "outputId": "76250e97-902b-4c50-868a-b70456474f57"
      },
      "source": [
        "newlist[1][5]"
      ],
      "execution_count": null,
      "outputs": [
        {
          "output_type": "execute_result",
          "data": {
            "text/plain": [
              "125"
            ]
          },
          "metadata": {},
          "execution_count": 16
        }
      ]
    },
    {
      "cell_type": "code",
      "metadata": {
        "colab": {
          "base_uri": "https://localhost:8080/",
          "height": 35
        },
        "id": "5i7syiQJYwk6",
        "outputId": "f2f2e82a-5e11-4300-9e2c-d3521a919aed"
      },
      "source": [
        "my_dict = {'key1':'Hai','key2':[12,45,78],'key3':['a','e','i','o','u']}\n",
        "my_dict['key1']"
      ],
      "execution_count": null,
      "outputs": [
        {
          "output_type": "execute_result",
          "data": {
            "application/vnd.google.colaboratory.intrinsic+json": {
              "type": "string"
            },
            "text/plain": [
              "'Hai'"
            ]
          },
          "metadata": {},
          "execution_count": 19
        }
      ]
    },
    {
      "cell_type": "code",
      "metadata": {
        "colab": {
          "base_uri": "https://localhost:8080/",
          "height": 35
        },
        "id": "rx-CxVVNZiv_",
        "outputId": "f4a22bcd-7a5a-4778-b83f-e3ad571edfe9"
      },
      "source": [
        "my_dict['key3'][0].upper()"
      ],
      "execution_count": null,
      "outputs": [
        {
          "output_type": "execute_result",
          "data": {
            "application/vnd.google.colaboratory.intrinsic+json": {
              "type": "string"
            },
            "text/plain": [
              "'A'"
            ]
          },
          "metadata": {},
          "execution_count": 21
        }
      ]
    },
    {
      "cell_type": "code",
      "metadata": {
        "colab": {
          "base_uri": "https://localhost:8080/"
        },
        "id": "M09tFZzvbq2x",
        "outputId": "a701a4ae-95d4-4e8f-b3bd-3c5fff1d6062"
      },
      "source": [
        "tup = ('hi',4,56,[9,98,7])\n",
        "tup\n",
        "tup1 = ('keyk',5,90,tup)\n",
        "tup1\n",
        "type(tup1)"
      ],
      "execution_count": null,
      "outputs": [
        {
          "output_type": "execute_result",
          "data": {
            "text/plain": [
              "tuple"
            ]
          },
          "metadata": {},
          "execution_count": 24
        }
      ]
    },
    {
      "cell_type": "code",
      "metadata": {
        "colab": {
          "base_uri": "https://localhost:8080/"
        },
        "id": "TSdOT_szey-P",
        "outputId": "4b28080c-5dca-4ddf-fb0a-505b865a5141"
      },
      "source": [
        "set1 = {'apple','banana','mango','grapes'}\n",
        "set1"
      ],
      "execution_count": null,
      "outputs": [
        {
          "output_type": "execute_result",
          "data": {
            "text/plain": [
              "{'apple', 'banana', 'grapes', 'mango'}"
            ]
          },
          "metadata": {},
          "execution_count": 25
        }
      ]
    },
    {
      "cell_type": "code",
      "metadata": {
        "colab": {
          "base_uri": "https://localhost:8080/"
        },
        "id": "6a4KfFP4fWyD",
        "outputId": "39cee65a-9225-4db6-8eb3-142db21a4a97"
      },
      "source": [
        "set2 = {'a','z','h','o'}\n",
        "set2"
      ],
      "execution_count": null,
      "outputs": [
        {
          "output_type": "execute_result",
          "data": {
            "text/plain": [
              "{'a', 'h', 'o', 'z'}"
            ]
          },
          "metadata": {},
          "execution_count": 26
        }
      ]
    },
    {
      "cell_type": "code",
      "metadata": {
        "colab": {
          "base_uri": "https://localhost:8080/"
        },
        "id": "LMc47Zm1oX9s",
        "outputId": "97a3cab8-e7e0-4306-cb99-7166b6c10368"
      },
      "source": [
        "count = 0\n",
        "while (count<10):\n",
        "  print(count)\n",
        "  count = count+2\n",
        "else:\n",
        "  print(\"After a While!\")\n"
      ],
      "execution_count": null,
      "outputs": [
        {
          "output_type": "stream",
          "name": "stdout",
          "text": [
            "0\n",
            "2\n",
            "4\n",
            "6\n",
            "8\n",
            "After a While!\n"
          ]
        }
      ]
    },
    {
      "cell_type": "code",
      "metadata": {
        "colab": {
          "base_uri": "https://localhost:8080/"
        },
        "id": "3KK49rrDtvsD",
        "outputId": "088316aa-7808-437b-90f6-d4d3add8655f"
      },
      "source": [
        "X = int(input(\"Enter a number to check if its prime: \"))\n",
        "\n",
        "Is_prime = True\n",
        "\n",
        "for i in range (2,X):\n",
        "  if (X % i) == 0:\n",
        "    Is_prime = False\n",
        "    break\n",
        "if Is_prime:\n",
        "  print(X,\"Number is Prime\")\n",
        "else:\n",
        "  print(X,\"Number is not prime\")\n",
        "\n"
      ],
      "execution_count": null,
      "outputs": [
        {
          "output_type": "stream",
          "name": "stdout",
          "text": [
            "Enter a number to check if its prime: 13\n",
            "13 Number is Prime\n"
          ]
        }
      ]
    },
    {
      "cell_type": "code",
      "metadata": {
        "colab": {
          "base_uri": "https://localhost:8080/"
        },
        "id": "avBMPjwOx0VC",
        "outputId": "9d77e858-b7ab-47ce-b0c4-ec311b65a94f"
      },
      "source": [
        "while True:\n",
        "  n = input(\"Enter a variable: \")\n",
        "\n",
        "  if n == 'q':\n",
        "    print(\"The loop ends here.......with break statement\")\n",
        "    break\n",
        "  if not n.isdigit():\n",
        "    print(\"Enter only digits:.......with continue statement\")\n",
        "    continue\n",
        "\n",
        "  n = int(n)\n",
        "  print(\"Cubes for the given number\",n,\"is\",n**3)\n",
        "\n"
      ],
      "execution_count": null,
      "outputs": [
        {
          "output_type": "stream",
          "name": "stdout",
          "text": [
            "Enter a variable: 67\n",
            "Cubes for the given number 67 is 300763\n",
            "Enter a variable: k\n",
            "Enter only digits:.......with continue statement\n",
            "Enter a variable: q\n",
            "The loop ends here.......with break statement\n"
          ]
        }
      ]
    },
    {
      "cell_type": "code",
      "metadata": {
        "colab": {
          "base_uri": "https://localhost:8080/"
        },
        "id": "SNpvc3dCQ3dp",
        "outputId": "58ee5b52-7003-4b5c-9a9c-785625d68ac3"
      },
      "source": [],
      "execution_count": null,
      "outputs": [
        {
          "output_type": "stream",
          "name": "stdout",
          "text": [
            "hey\n",
            "welcome\n",
            "to\n",
            "practice\n"
          ]
        }
      ]
    },
    {
      "cell_type": "code",
      "metadata": {
        "colab": {
          "base_uri": "https://localhost:8080/"
        },
        "id": "QKH69DraRqrz",
        "outputId": "cb45e344-592c-4578-e2ca-dc6053577773"
      },
      "source": [
        "x = int(input(\"Enter first number: \"))\n",
        "y = int(input(\"Enter second number: \"))\n",
        "list1 = list(range(x,y+1,2))\n",
        "print(list1)"
      ],
      "execution_count": null,
      "outputs": [
        {
          "output_type": "stream",
          "name": "stdout",
          "text": [
            "Enter first number: 50\n",
            "Enter second number: 80\n",
            "[50, 52, 54, 56, 58, 60, 62, 64, 66, 68, 70, 72, 74, 76, 78, 80]\n"
          ]
        }
      ]
    },
    {
      "cell_type": "code",
      "metadata": {
        "colab": {
          "base_uri": "https://localhost:8080/"
        },
        "id": "ht6bowjNWPXX",
        "outputId": "5e07b47b-eb8e-4ec5-dab5-cb3e40f84726"
      },
      "source": [
        "def factorial(n):\n",
        "  factorial = 1\n",
        "  if int(n)>=1:\n",
        "    for i in range(1,int(n)+1):\n",
        "      factorial = factorial*i;\n",
        "    return factorial\n",
        "\n",
        "x = int(input(\"Enter the value to get the factorial: \"))\n",
        "factorial(x)\n"
      ],
      "execution_count": null,
      "outputs": [
        {
          "name": "stdout",
          "output_type": "stream",
          "text": [
            "Enter the value to get the factorial: 20\n"
          ]
        },
        {
          "output_type": "execute_result",
          "data": {
            "text/plain": [
              "2432902008176640000"
            ]
          },
          "metadata": {},
          "execution_count": 45
        }
      ]
    },
    {
      "cell_type": "code",
      "metadata": {
        "id": "PxizRFDNaiLP"
      },
      "source": [],
      "execution_count": null,
      "outputs": []
    },
    {
      "cell_type": "code",
      "metadata": {
        "colab": {
          "base_uri": "https://localhost:8080/"
        },
        "id": "ZWAr2a6AXD1p",
        "outputId": "b24f9344-3a8b-4124-c728-36b103dbd3fa"
      },
      "source": [
        "def products_purchased(prod1,*args):\n",
        "  print(\"Default argument value would be: \",prod1)\n",
        "  for items in args:\n",
        "    print(items)\n",
        "  #return()\n",
        "products_purchased(\"Milk\",\"Eggs\",\"Flour\",\"Medicine\")\n"
      ],
      "execution_count": null,
      "outputs": [
        {
          "output_type": "stream",
          "name": "stdout",
          "text": [
            "Default argument value would be:  Milk\n",
            "Eggs\n",
            "Flour\n",
            "Medicine\n"
          ]
        }
      ]
    }
  ]
}